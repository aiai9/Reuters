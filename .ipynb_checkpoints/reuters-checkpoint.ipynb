{
 "cells": [
  {
   "cell_type": "code",
   "execution_count": 19,
   "metadata": {},
   "outputs": [],
   "source": [
    "import pandas as pd\n",
    "import numpy as np\n",
    "from Reuters import *"
   ]
  },
  {
   "cell_type": "code",
   "execution_count": 20,
   "metadata": {},
   "outputs": [
    {
     "name": "stdout",
     "output_type": "stream",
     "text": [
      "-rw-r--r--@ 1 ai  staff  1324350 12  5  1996 reuters21578/reut2-000.xml\r\n",
      "-rw-r--r--@ 1 ai  staff  1254440 12  5  1996 reuters21578/reut2-001.xml\r\n",
      "-rw-r--r--@ 1 ai  staff  1217495 12  5  1996 reuters21578/reut2-002.xml\r\n",
      "-rw-r--r--@ 1 ai  staff  1298721 12  5  1996 reuters21578/reut2-003.xml\r\n",
      "-rw-r--r--@ 1 ai  staff  1321623 12  5  1996 reuters21578/reut2-004.xml\r\n",
      "-rw-r--r--@ 1 ai  staff  1388644 12  5  1996 reuters21578/reut2-005.xml\r\n",
      "-rw-r--r--@ 1 ai  staff  1254765 12  5  1996 reuters21578/reut2-006.xml\r\n",
      "-rw-r--r--@ 1 ai  staff  1256772 12  5  1996 reuters21578/reut2-007.xml\r\n",
      "-rw-r--r--@ 1 ai  staff  1410117 12  5  1996 reuters21578/reut2-008.xml\r\n",
      "-rw-r--r--@ 1 ai  staff  1338903 12  5  1996 reuters21578/reut2-009.xml\r\n",
      "-rw-r--r--@ 1 ai  staff  1371071 12  5  1996 reuters21578/reut2-010.xml\r\n",
      "-rw-r--r--@ 1 ai  staff  1304117 12  5  1996 reuters21578/reut2-011.xml\r\n",
      "-rw-r--r--@ 1 ai  staff  1323584 12  5  1996 reuters21578/reut2-012.xml\r\n",
      "-rw-r--r--@ 1 ai  staff  1129687 12  5  1996 reuters21578/reut2-013.xml\r\n",
      "-rw-r--r--@ 1 ai  staff  1128671 12  5  1996 reuters21578/reut2-014.xml\r\n",
      "-rw-r--r--@ 1 ai  staff  1258665 12  5  1996 reuters21578/reut2-015.xml\r\n",
      "-rw-r--r--@ 1 ai  staff  1316417 12  5  1996 reuters21578/reut2-016.xml\r\n",
      "-rw-r--r--@ 1 ai  staff  1546911 12  5  1996 reuters21578/reut2-017.xml\r\n",
      "-rw-r--r--@ 1 ai  staff  1258819 12  5  1996 reuters21578/reut2-018.xml\r\n",
      "-rw-r--r--@ 1 ai  staff  1261780 12  5  1996 reuters21578/reut2-019.xml\r\n",
      "-rw-r--r--@ 1 ai  staff  1049566 12  5  1996 reuters21578/reut2-020.xml\r\n",
      "-rw-r--r--@ 1 ai  staff   621648 12  5  1996 reuters21578/reut2-021.xml\r\n"
     ]
    }
   ],
   "source": [
    "# the downloaded dataset\n",
    "!ls -la reuters21578/*.xml"
   ]
  },
  {
   "cell_type": "code",
   "execution_count": 21,
   "metadata": {},
   "outputs": [
    {
     "name": "stdout",
     "output_type": "stream",
     "text": [
      "   11367\r\n"
     ]
    }
   ],
   "source": [
    "!grep \\<TOPICS\\>\\<D\\> reuters21578/*.xml | wc -l"
   ]
  },
  {
   "cell_type": "code",
   "execution_count": 29,
   "metadata": {},
   "outputs": [
    {
     "ename": "NameError",
     "evalue": "name 'sgmllib' is not defined",
     "output_type": "error",
     "traceback": [
      "\u001b[0;31m---------------------------------------------------------------------------\u001b[0m",
      "\u001b[0;31mNameError\u001b[0m                                 Traceback (most recent call last)",
      "\u001b[0;32m<ipython-input-29-f5ae5dffb08c>\u001b[0m in \u001b[0;36m<module>\u001b[0;34m()\u001b[0m\n\u001b[1;32m      2\u001b[0m \u001b[0;31m# this will download the data if it's not yet available locally\u001b[0m\u001b[0;34m\u001b[0m\u001b[0;34m\u001b[0m\u001b[0m\n\u001b[1;32m      3\u001b[0m \u001b[0mdata_streamer\u001b[0m \u001b[0;34m=\u001b[0m \u001b[0mReutersStreamReader\u001b[0m\u001b[0;34m(\u001b[0m\u001b[0;34m'reuters21578'\u001b[0m\u001b[0;34m)\u001b[0m\u001b[0;34m.\u001b[0m\u001b[0miterdocs\u001b[0m\u001b[0;34m(\u001b[0m\u001b[0;34m)\u001b[0m\u001b[0;34m\u001b[0m\u001b[0m\n\u001b[0;32m----> 4\u001b[0;31m \u001b[0mdata\u001b[0m \u001b[0;34m=\u001b[0m \u001b[0mget_minibatch\u001b[0m\u001b[0;34m(\u001b[0m\u001b[0mdata_streamer\u001b[0m\u001b[0;34m,\u001b[0m \u001b[0;36m50000\u001b[0m\u001b[0;34m)\u001b[0m\u001b[0;34m\u001b[0m\u001b[0m\n\u001b[0m\u001b[1;32m      5\u001b[0m \u001b[0mdata\u001b[0m\u001b[0;34m\u001b[0m\u001b[0m\n",
      "\u001b[0;32m~/github/7967781-c6218c43516d0a867b81a4c1a8169ae747e5b253/Reuters.py\u001b[0m in \u001b[0;36mget_minibatch\u001b[0;34m(doc_iter, size)\u001b[0m\n",
      "\u001b[0;32m~/github/7967781-c6218c43516d0a867b81a4c1a8169ae747e5b253/Reuters.py\u001b[0m in \u001b[0;36m<listcomp>\u001b[0;34m(.0)\u001b[0m\n",
      "\u001b[0;32m~/github/7967781-c6218c43516d0a867b81a4c1a8169ae747e5b253/Reuters.py\u001b[0m in \u001b[0;36miterdocs\u001b[0;34m(self)\u001b[0m\n",
      "\u001b[0;32m~/github/7967781-c6218c43516d0a867b81a4c1a8169ae747e5b253/Reuters.py\u001b[0m in \u001b[0;36m__init__\u001b[0;34m(self, verbose)\u001b[0m\n\u001b[1;32m     32\u001b[0m     \u001b[0;32mdef\u001b[0m \u001b[0m__init__\u001b[0m\u001b[0;34m(\u001b[0m\u001b[0mself\u001b[0m\u001b[0;34m,\u001b[0m \u001b[0mverbose\u001b[0m\u001b[0;34m=\u001b[0m\u001b[0;36m0\u001b[0m\u001b[0;34m)\u001b[0m\u001b[0;34m:\u001b[0m\u001b[0;34m\u001b[0m\u001b[0m\n\u001b[1;32m     33\u001b[0m         \u001b[0mxml\u001b[0m\u001b[0;34m.\u001b[0m\u001b[0metree\u001b[0m\u001b[0;34m.\u001b[0m\u001b[0mElementTree\u001b[0m\u001b[0;34m.\u001b[0m\u001b[0mElementTree\u001b[0m\u001b[0;34m.\u001b[0m\u001b[0m__init__\u001b[0m\u001b[0;34m(\u001b[0m\u001b[0mself\u001b[0m\u001b[0;34m,\u001b[0m \u001b[0mverbose\u001b[0m\u001b[0;34m)\u001b[0m\u001b[0;34m\u001b[0m\u001b[0m\n\u001b[0;32m---> 34\u001b[0;31m         \u001b[0mself\u001b[0m\u001b[0;34m.\u001b[0m\u001b[0m_reset\u001b[0m\u001b[0;34m(\u001b[0m\u001b[0;34m)\u001b[0m\u001b[0;34m\u001b[0m\u001b[0m\n\u001b[0m\u001b[1;32m     35\u001b[0m \u001b[0;34m\u001b[0m\u001b[0m\n\u001b[1;32m     36\u001b[0m     \u001b[0;32mdef\u001b[0m \u001b[0m_reset\u001b[0m\u001b[0;34m(\u001b[0m\u001b[0mself\u001b[0m\u001b[0;34m)\u001b[0m\u001b[0;34m:\u001b[0m\u001b[0;34m\u001b[0m\u001b[0m\n",
      "\u001b[0;31mNameError\u001b[0m: name 'sgmllib' is not defined"
     ]
    }
   ],
   "source": [
    "# read and parse the data\n",
    "# this will download the data if it's not yet available locally\n",
    "data_streamer = ReutersStreamReader('reuters21578').iterdocs()\n",
    "data = get_minibatch(data_streamer, 50000)\n",
    "data"
   ]
  },
  {
   "cell_type": "code",
   "execution_count": 27,
   "metadata": {},
   "outputs": [
    {
     "data": {
      "text/html": [
       "<div>\n",
       "<style>\n",
       "    .dataframe thead tr:only-child th {\n",
       "        text-align: right;\n",
       "    }\n",
       "\n",
       "    .dataframe thead th {\n",
       "        text-align: left;\n",
       "    }\n",
       "\n",
       "    .dataframe tbody tr th {\n",
       "        vertical-align: top;\n",
       "    }\n",
       "</style>\n",
       "<table border=\"1\" class=\"dataframe\">\n",
       "  <thead>\n",
       "    <tr style=\"text-align: right;\">\n",
       "      <th></th>\n",
       "    </tr>\n",
       "  </thead>\n",
       "  <tbody>\n",
       "  </tbody>\n",
       "</table>\n",
       "</div>"
      ],
      "text/plain": [
       "Empty DataFrame\n",
       "Columns: []\n",
       "Index: []"
      ]
     },
     "execution_count": 27,
     "metadata": {},
     "output_type": "execute_result"
    }
   ],
   "source": [
    "# 'text' is combined document title and body\n",
    "data.head()"
   ]
  },
  {
   "cell_type": "code",
   "execution_count": null,
   "metadata": {
    "collapsed": true
   },
   "outputs": [],
   "source": [
    "from sklearn.preprocessing import LabelBinarizer\n",
    "\n",
    "# binary encode the tags\n",
    "lb = LabelBinarizer()\n",
    "Y = lb.fit_transform(data.tags)\n",
    "Y"
   ]
  },
  {
   "cell_type": "code",
   "execution_count": null,
   "metadata": {
    "collapsed": true
   },
   "outputs": [],
   "source": [
    "from sklearn.feature_extraction.text import TfidfVectorizer\n",
    "\n",
    "# get the TF-IDF of the text\n",
    "vec = TfidfVectorizer(min_df=2, sublinear_tf=True, decode_error='ignore')\n",
    "X = vec.fit_transform(data.text)\n",
    "X"
   ]
  },
  {
   "cell_type": "code",
   "execution_count": null,
   "metadata": {
    "collapsed": true
   },
   "outputs": [],
   "source": [
    "# split into train and test set\n",
    "N = int(.6 * X.shape[0])\n",
    "Xtr, ytr = X[:N,:], Y[:N,:]\n",
    "Xte, yte = X[N:,:], Y[N:,:]"
   ]
  },
  {
   "cell_type": "code",
   "execution_count": null,
   "metadata": {
    "collapsed": true
   },
   "outputs": [],
   "source": [
    "# there are warnings of ill-defined recall/precision etc.\n",
    "# just ignore them for now\n",
    "import warnings\n",
    "warnings.filterwarnings(\"ignore\")"
   ]
  },
  {
   "cell_type": "code",
   "execution_count": null,
   "metadata": {
    "collapsed": true
   },
   "outputs": [],
   "source": [
    "from sklearn.multiclass import OneVsRestClassifier\n",
    "from sklearn.linear_model import LogisticRegression\n",
    "from sklearn.grid_search import GridSearchCV\n",
    "\n",
    "# logistic regression parameter to optimise\n",
    "params = {\"estimator__C\": np.logspace(1, 1.5, num=5)}\n",
    "# use OneVsRestClassifier for multiclass learning\n",
    "model = OneVsRestClassifier(LogisticRegression())\n",
    "# do a grid search on the params, with 5-fold cross-validation\n",
    "# optimise for F1-score\n",
    "clf = GridSearchCV(model, param_grid=params, scoring='f1', n_jobs=-1, cv=5)\n",
    "clf.fit(Xtr, ytr)\n",
    "clf.best_score_, clf.best_params_"
   ]
  },
  {
   "cell_type": "code",
   "execution_count": null,
   "metadata": {
    "collapsed": true
   },
   "outputs": [],
   "source": [
    "from sklearn.metrics import f1_score\n",
    "\n",
    "# compute predictions on test set\n",
    "pred = clf.predict(Xte)\n",
    "# compute F1-score on test set\n",
    "f1_score(yte, pred)"
   ]
  },
  {
   "cell_type": "code",
   "execution_count": null,
   "metadata": {
    "collapsed": true
   },
   "outputs": [],
   "source": [
    "# a quick look into some example predictions\n",
    "# compare with tags in test data\n",
    "tags = []\n",
    "for n in xrange(20):\n",
    "    tags.append((lb.classes_[yte[n]==1], lb.classes_[pred[n]==1]))\n",
    "    \n",
    "pd.DataFrame(tags, columns=['actual tags', 'predicted tags'])"
   ]
  }
 ],
 "metadata": {
  "kernelspec": {
   "display_name": "Python 3",
   "language": "python",
   "name": "python3"
  },
  "language_info": {
   "codemirror_mode": {
    "name": "ipython",
    "version": 3
   },
   "file_extension": ".py",
   "mimetype": "text/x-python",
   "name": "python",
   "nbconvert_exporter": "python",
   "pygments_lexer": "ipython3",
   "version": "3.6.2"
  }
 },
 "nbformat": 4,
 "nbformat_minor": 1
}
